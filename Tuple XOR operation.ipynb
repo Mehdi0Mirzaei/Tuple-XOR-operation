{
 "cells": [
  {
   "cell_type": "code",
   "execution_count": 32,
   "id": "997bff8f",
   "metadata": {},
   "outputs": [
    {
     "name": "stdout",
     "output_type": "stream",
     "text": [
      "The original tuple 1 : (10, 4, 6, 9)\n",
      "The original tuple 2 : (5, 2, 3, 3)\n",
      "The XOR tuple : (15, 6, 5, 10)\n"
     ]
    }
   ],
   "source": [
    "# initialize tuples \n",
    "test_tup1 = (10, 4, 6, 9) \n",
    "test_tup2 = (5, 2, 3, 3) \n",
    " \n",
    "# printing original tuples \n",
    "print(\"The original tuple 1 : \" + str(test_tup1)) \n",
    "print(\"The original tuple 2 : \" + str(test_tup2)) \n",
    " \n",
    "# Tuple XOR operation\n",
    "# using zip() + generator expression \n",
    "res = tuple(ele1 ^ ele2 for ele1, ele2 in zip(test_tup1, test_tup2)) \n",
    " \n",
    "# printing result \n",
    "print(\"The XOR tuple : \" + str(res)) "
   ]
  },
  {
   "cell_type": "code",
   "execution_count": 33,
   "id": "c9acb8e4",
   "metadata": {},
   "outputs": [
    {
     "name": "stdout",
     "output_type": "stream",
     "text": [
      "The original tuple 1 : (10, 4, 6, 9)\n",
      "The original tuple 2 : (5, 2, 3, 3)\n",
      "The XOR tuple : (15, 6, 5, 10)\n"
     ]
    }
   ],
   "source": [
    "from operator import xor\n",
    " \n",
    "# initialize tuples \n",
    "test_tup1 = (10, 4, 6, 9) \n",
    "test_tup2 = (5, 2, 3, 3) \n",
    " \n",
    "# printing original tuples \n",
    "print(\"The original tuple 1 : \" + str(test_tup1)) \n",
    "print(\"The original tuple 2 : \" + str(test_tup2)) \n",
    " \n",
    "# Tuple XOR operation \n",
    "# using map() + xor\n",
    "res = tuple(map(xor, test_tup1, test_tup2)) \n",
    " \n",
    "# printing result \n",
    "print(\"The XOR tuple : \" + str(res))"
   ]
  },
  {
   "cell_type": "code",
   "execution_count": 34,
   "id": "cf9089d0",
   "metadata": {},
   "outputs": [
    {
     "name": "stdout",
     "output_type": "stream",
     "text": [
      "The original tuple 1 : (10, 4, 6, 9)\n",
      "The original tuple 2 : (5, 2, 3, 3)\n",
      "The XOR tuple : (15, 6, 5, 10)\n"
     ]
    }
   ],
   "source": [
    "import numpy as np\n",
    "   \n",
    "# initialize tuples \n",
    "test_tup1 = (10, 4, 6, 9) \n",
    "test_tup2 = (5, 2, 3, 3) \n",
    "   \n",
    "# printing original tuples \n",
    "print(\"The original tuple 1 : \" + str(test_tup1)) \n",
    "print(\"The original tuple 2 : \" + str(test_tup2)) \n",
    "   \n",
    "# Tuple XOR operation \n",
    "# using numpy \n",
    "res = np.bitwise_xor(test_tup1,test_tup2)\n",
    "   \n",
    "# printing result \n",
    "print(\"The XOR tuple : \" + str(tuple(res)))\n"
   ]
  },
  {
   "cell_type": "code",
   "execution_count": 35,
   "id": "1fd3f12c",
   "metadata": {},
   "outputs": [
    {
     "name": "stdout",
     "output_type": "stream",
     "text": [
      "The original tuple 1 : (10, 4, 6, 9)\n",
      "The original tuple 2 : (5, 2, 3, 3)\n",
      "The XOR tuple : (15, 6, 5, 10)\n"
     ]
    }
   ],
   "source": [
    "# initialize tuples\n",
    "test_tup1 = (10, 4, 6, 9)\n",
    "test_tup2 = (5, 2, 3, 3)\n",
    " \n",
    "# printing original tuples\n",
    "print(\"The original tuple 1 : \" + str(test_tup1))\n",
    "print(\"The original tuple 2 : \" + str(test_tup2))\n",
    " \n",
    "# Tuple XOR operation\n",
    "res=[]\n",
    "for i in range(0,len(test_tup1)):\n",
    "    res.append(test_tup1[i]^test_tup2[i])\n",
    "res=tuple(res)\n",
    "# printing result\n",
    "print(\"The XOR tuple : \" + str(res))"
   ]
  },
  {
   "cell_type": "code",
   "execution_count": 36,
   "id": "f2678103",
   "metadata": {},
   "outputs": [
    {
     "name": "stdout",
     "output_type": "stream",
     "text": [
      "The original tuple 1 : (10, 4, 6, 9)\n",
      "The original tuple 2 : (5, 2, 3, 3)\n",
      "The XOR tuple : (15, 6, 5, 10)\n"
     ]
    }
   ],
   "source": [
    "# initialize tuples\n",
    "test_tup1 = (10, 4, 6, 9)\n",
    "test_tup2 = (5, 2, 3, 3)\n",
    " \n",
    "# perform XOR operation using list comprehension\n",
    "res = tuple([test_tup1[i] ^ test_tup2[i] for i in range(len(test_tup1))])\n",
    " \n",
    "# printing original tuples\n",
    "print(\"The original tuple 1 : \" + str(test_tup1))\n",
    "print(\"The original tuple 2 : \" + str(test_tup2))\n",
    " \n",
    "# print the result\n",
    "print(\"The XOR tuple : \" + str(res))"
   ]
  },
  {
   "cell_type": "code",
   "execution_count": null,
   "id": "465eb45d",
   "metadata": {},
   "outputs": [],
   "source": []
  }
 ],
 "metadata": {
  "kernelspec": {
   "display_name": "Python 3 (ipykernel)",
   "language": "python",
   "name": "python3"
  },
  "language_info": {
   "codemirror_mode": {
    "name": "ipython",
    "version": 3
   },
   "file_extension": ".py",
   "mimetype": "text/x-python",
   "name": "python",
   "nbconvert_exporter": "python",
   "pygments_lexer": "ipython3",
   "version": "3.9.13"
  }
 },
 "nbformat": 4,
 "nbformat_minor": 5
}
